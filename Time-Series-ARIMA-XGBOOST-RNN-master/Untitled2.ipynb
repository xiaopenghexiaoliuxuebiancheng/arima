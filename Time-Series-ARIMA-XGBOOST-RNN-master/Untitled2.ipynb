{
 "cells": [
  {
   "cell_type": "code",
   "execution_count": 2,
   "id": "be9b2cf9-0695-47a4-b095-e238421174b5",
   "metadata": {},
   "outputs": [
    {
     "name": "stdout",
     "output_type": "stream",
     "text": [
      "数据集已划分为前701行，并保存到 data_first7000.csv\n"
     ]
    }
   ],
   "source": [
    "import pandas as pd\n",
    "\n",
    "# 读取 CSV 数据文件，假设文件名为 'data.csv'\n",
    "df = pd.read_csv('daily_power_consumption.csv')\n",
    "\n",
    "# 只选择前 701 行\n",
    "df_subset = df.head(7000)\n",
    "\n",
    "# 如果需要将子集保存为一个新的 CSV 文件\n",
    "df_subset.to_csv('data_first701.csv', index=False)\n",
    "\n",
    "print(\"数据集已划分为前701行，并保存到 data_first7000.csv\")\n"
   ]
  },
  {
   "cell_type": "code",
   "execution_count": null,
   "id": "cdb9074c-8737-4a64-aaf6-c2d7f9a30e66",
   "metadata": {},
   "outputs": [],
   "source": []
  }
 ],
 "metadata": {
  "kernelspec": {
   "display_name": "Python 3 (ipykernel)",
   "language": "python",
   "name": "python3"
  },
  "language_info": {
   "codemirror_mode": {
    "name": "ipython",
    "version": 3
   },
   "file_extension": ".py",
   "mimetype": "text/x-python",
   "name": "python",
   "nbconvert_exporter": "python",
   "pygments_lexer": "ipython3",
   "version": "3.11.4"
  }
 },
 "nbformat": 4,
 "nbformat_minor": 5
}
